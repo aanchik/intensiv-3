{
 "cells": [
  {
   "cell_type": "markdown",
   "metadata": {},
   "source": [
    "#Импорт библиотек"
   ]
  },
  {
   "cell_type": "code",
   "execution_count": 14,
   "metadata": {},
   "outputs": [],
   "source": [
    "import pandas as pd  #для работы с табличными данными\n",
    "import joblib  #для загрузки сериализованной модели машинного обучения"
   ]
  },
  {
   "cell_type": "code",
   "execution_count": 15,
   "metadata": {},
   "outputs": [],
   "source": [
    "test_df = pd.read_excel(\"data/test.xlsx\")  #\n",
    "model = joblib.load(\"LGBMRegressor.pkl\")  #загружается заранее обученная модель\n",
    "feature_columns = model.feature_names_in_  #метод feature_names_in_ возвращает список признаков, которые использовались при обучении модели\n",
    "#(для того, чтобы данные в тесте соответствовали тем же признакам)"
   ]
  },
  {
   "cell_type": "code",
   "execution_count": 16,
   "metadata": {},
   "outputs": [
    {
     "name": "stdout",
     "output_type": "stream",
     "text": [
      "Ожидаемые признаки: ['year' 'month' 'day' 'week' 'Price_source' 'Price_Diff']\n",
      "Колонки test_df: Index(['dt', 'Цена на арматуру'], dtype='object')\n"
     ]
    }
   ],
   "source": [
    "print(\"Ожидаемые признаки:\", feature_columns)  #выводим ожидаемые моделью признаки и реальные колонки test_df для проверки их соответствия\n",
    "print(\"Колонки test_df:\", test_df.columns)"
   ]
  },
  {
   "cell_type": "markdown",
   "metadata": {},
   "source": [
    "#Преобразование временных данных"
   ]
  },
  {
   "cell_type": "code",
   "execution_count": 17,
   "metadata": {},
   "outputs": [],
   "source": [
    "if \"dt\" in test_df.columns:\n",
    "    test_df[\"dt\"] = pd.to_datetime(test_df[\"dt\"])\n",
    "    test_df[\"year\"] = test_df[\"dt\"].dt.year\n",
    "    test_df[\"month\"] = test_df[\"dt\"].dt.month\n",
    "    test_df[\"day\"] = test_df[\"dt\"].dt.day\n",
    "    test_df[\"week\"] = test_df[\"dt\"].dt.isocalendar().week"
   ]
  },
  {
   "cell_type": "markdown",
   "metadata": {},
   "source": [
    "#Новые признаки на основе цены"
   ]
  },
  {
   "cell_type": "code",
   "execution_count": 18,
   "metadata": {},
   "outputs": [],
   "source": [
    "if \"Цена на арматуру\" in test_df.columns:\n",
    "    test_df[\"Price_source\"] = test_df[\"Цена на арматуру\"].shift(1)  #цена на предыдущей неделе\n",
    "    test_df[\"Price_Diff\"] = test_df[\"Цена на арматуру\"].diff()  #разница цены по сравнению с предыдущей неделей\n",
    "\n",
    "    #заполняем NaN средними значениями соседних строк\n",
    "    test_df[\"Price_source\"] = test_df[\"Price_source\"].interpolate(method=\"linear\")\n",
    "    test_df[\"Price_Diff\"] = test_df[\"Price_Diff\"].interpolate(method=\"linear\")\n",
    "\n",
    "    #если остались NaN, заменяем их средним значением\n",
    "    test_df[\"Price_source\"] = test_df[\"Price_source\"].fillna(test_df[\"Price_source\"].mean())\n",
    "    test_df[\"Price_Diff\"] = test_df[\"Price_Diff\"].fillna(test_df[\"Price_Diff\"].mean())"
   ]
  },
  {
   "cell_type": "markdown",
   "metadata": {},
   "source": [
    "#Дополнительный вывод информации"
   ]
  },
  {
   "cell_type": "code",
   "execution_count": 19,
   "metadata": {},
   "outputs": [
    {
     "name": "stdout",
     "output_type": "stream",
     "text": [
      "Ожидаемые признаки: ['year' 'month' 'day' 'week' 'Price_source' 'Price_Diff']\n",
      "Колонки test_df: Index(['dt', 'Цена на арматуру', 'year', 'month', 'day', 'week',\n",
      "       'Price_source', 'Price_Diff'],\n",
      "      dtype='object')\n"
     ]
    }
   ],
   "source": [
    "feature_columns = model.feature_names_in_\n",
    "print(\"Ожидаемые признаки:\", feature_columns)\n",
    "print(\"Колонки test_df:\", test_df.columns)"
   ]
  },
  {
   "cell_type": "markdown",
   "metadata": {},
   "source": [
    "#Подготовка данных для предсказания"
   ]
  },
  {
   "cell_type": "code",
   "execution_count": 20,
   "metadata": {},
   "outputs": [],
   "source": [
    "X_test = test_df[feature_columns]  #создаём новый датафрейм X_test, содержащий только те признаки, которые использовались при обучении модели \n",
    "test_df[\"Прогноз_цены\"] = model.predict(X_test)"
   ]
  },
  {
   "cell_type": "markdown",
   "metadata": {},
   "source": [
    "#Функция для расчёта количества недель закупки"
   ]
  },
  {
   "cell_type": "code",
   "execution_count": 21,
   "metadata": {},
   "outputs": [],
   "source": [
    "def calculate_weeks(row):\n",
    "    if row[\"Прогноз_цены\"] > row[\"Цена на арматуру\"] * 1.02:  #если прогнозируемая цена вырастет более чем на 2% закупка на 6 недель (запас, чтобы избежать дорогих покупок в будущем)\n",
    "        return 6\n",
    "    elif row[\"Прогноз_цены\"] > row[\"Цена на арматуру\"]:  #если цена слегка повысится (но не выше 2%) закупка на 4 недели\n",
    "        return 4\n",
    "    elif row[\"Прогноз_цены\"] < row[\"Цена на арматуру\"] * 0.98:  #если цена снизится более чем на 2% → закупаем только на 1 неделю, чтобы позже купить дешевле.\n",
    "        return 1\n",
    "    else:\n",
    "        return 3  #если цена остаётся стабильной → закупаем на 3 недели.\n",
    "    \n",
    "test_df[\"Закупка_на_колво_недель\"] = test_df.apply(calculate_weeks, axis=1)  #применяеv функцию calculate_weeks к каждой строке датафрейма"
   ]
  },
  {
   "cell_type": "code",
   "execution_count": 22,
   "metadata": {},
   "outputs": [],
   "source": [
    "X_test = test_df[feature_columns]"
   ]
  },
  {
   "cell_type": "code",
   "execution_count": 23,
   "metadata": {},
   "outputs": [],
   "source": [
    "test_df[\"Прогноз_цены\"] = model.predict(X_test).round().astype(int)  #предсказания цены на арматуру на следующую неделю, округление и приведение предсказания к целому числу\n",
    "test_df = test_df.drop(columns=[\"Прогноз_недель\"], errors=\"ignore\")  #удаление прошлых косяков\n"
   ]
  },
  {
   "cell_type": "code",
   "execution_count": 24,
   "metadata": {},
   "outputs": [
    {
     "data": {
      "text/html": [
       "<div>\n",
       "<style scoped>\n",
       "    .dataframe tbody tr th:only-of-type {\n",
       "        vertical-align: middle;\n",
       "    }\n",
       "\n",
       "    .dataframe tbody tr th {\n",
       "        vertical-align: top;\n",
       "    }\n",
       "\n",
       "    .dataframe thead th {\n",
       "        text-align: right;\n",
       "    }\n",
       "</style>\n",
       "<table border=\"1\" class=\"dataframe\">\n",
       "  <thead>\n",
       "    <tr style=\"text-align: right;\">\n",
       "      <th></th>\n",
       "      <th>dt</th>\n",
       "      <th>Цена на арматуру</th>\n",
       "      <th>year</th>\n",
       "      <th>month</th>\n",
       "      <th>day</th>\n",
       "      <th>week</th>\n",
       "      <th>Price_source</th>\n",
       "      <th>Price_Diff</th>\n",
       "      <th>Прогноз_цены</th>\n",
       "      <th>Закупка_на_колво_недель</th>\n",
       "    </tr>\n",
       "  </thead>\n",
       "  <tbody>\n",
       "    <tr>\n",
       "      <th>0</th>\n",
       "      <td>2022-09-05</td>\n",
       "      <td>46000</td>\n",
       "      <td>2022</td>\n",
       "      <td>9</td>\n",
       "      <td>5</td>\n",
       "      <td>36</td>\n",
       "      <td>43833.333333</td>\n",
       "      <td>351.851852</td>\n",
       "      <td>42795</td>\n",
       "      <td>1</td>\n",
       "    </tr>\n",
       "    <tr>\n",
       "      <th>1</th>\n",
       "      <td>2022-09-12</td>\n",
       "      <td>46000</td>\n",
       "      <td>2022</td>\n",
       "      <td>9</td>\n",
       "      <td>12</td>\n",
       "      <td>37</td>\n",
       "      <td>46000.000000</td>\n",
       "      <td>0.000000</td>\n",
       "      <td>46060</td>\n",
       "      <td>4</td>\n",
       "    </tr>\n",
       "    <tr>\n",
       "      <th>2</th>\n",
       "      <td>2022-09-19</td>\n",
       "      <td>46000</td>\n",
       "      <td>2022</td>\n",
       "      <td>9</td>\n",
       "      <td>19</td>\n",
       "      <td>38</td>\n",
       "      <td>46000.000000</td>\n",
       "      <td>0.000000</td>\n",
       "      <td>46132</td>\n",
       "      <td>4</td>\n",
       "    </tr>\n",
       "    <tr>\n",
       "      <th>3</th>\n",
       "      <td>2022-09-26</td>\n",
       "      <td>45500</td>\n",
       "      <td>2022</td>\n",
       "      <td>9</td>\n",
       "      <td>26</td>\n",
       "      <td>39</td>\n",
       "      <td>46000.000000</td>\n",
       "      <td>-500.000000</td>\n",
       "      <td>46645</td>\n",
       "      <td>6</td>\n",
       "    </tr>\n",
       "    <tr>\n",
       "      <th>4</th>\n",
       "      <td>2022-10-03</td>\n",
       "      <td>45500</td>\n",
       "      <td>2022</td>\n",
       "      <td>10</td>\n",
       "      <td>3</td>\n",
       "      <td>40</td>\n",
       "      <td>45500.000000</td>\n",
       "      <td>0.000000</td>\n",
       "      <td>44907</td>\n",
       "      <td>3</td>\n",
       "    </tr>\n",
       "  </tbody>\n",
       "</table>\n",
       "</div>"
      ],
      "text/plain": [
       "          dt  Цена на арматуру  year  month  day  week  Price_source  \\\n",
       "0 2022-09-05             46000  2022      9    5    36  43833.333333   \n",
       "1 2022-09-12             46000  2022      9   12    37  46000.000000   \n",
       "2 2022-09-19             46000  2022      9   19    38  46000.000000   \n",
       "3 2022-09-26             45500  2022      9   26    39  46000.000000   \n",
       "4 2022-10-03             45500  2022     10    3    40  45500.000000   \n",
       "\n",
       "   Price_Diff  Прогноз_цены  Закупка_на_колво_недель  \n",
       "0  351.851852         42795                        1  \n",
       "1    0.000000         46060                        4  \n",
       "2    0.000000         46132                        4  \n",
       "3 -500.000000         46645                        6  \n",
       "4    0.000000         44907                        3  "
      ]
     },
     "execution_count": 24,
     "metadata": {},
     "output_type": "execute_result"
    }
   ],
   "source": [
    "test_df.head()  #выводим первые 5 строк"
   ]
  },
  {
   "cell_type": "code",
   "execution_count": 25,
   "metadata": {},
   "outputs": [
    {
     "name": "stdout",
     "output_type": "stream",
     "text": [
      "Прогнозирование завершено. Результаты сохранены в predicted_procurement.xlsx\n"
     ]
    }
   ],
   "source": [
    "test_df.to_excel(\"predicted_procurement.xlsx\", index=False)  #сохраняем результат в формате xlsx\n",
    "\n",
    "print(\"Прогнозирование завершено. Результаты сохранены в predicted_procurement.xlsx\")"
   ]
  }
 ],
 "metadata": {
  "kernelspec": {
   "display_name": "Python 3",
   "language": "python",
   "name": "python3"
  },
  "language_info": {
   "codemirror_mode": {
    "name": "ipython",
    "version": 3
   },
   "file_extension": ".py",
   "mimetype": "text/x-python",
   "name": "python",
   "nbconvert_exporter": "python",
   "pygments_lexer": "ipython3",
   "version": "3.12.2"
  }
 },
 "nbformat": 4,
 "nbformat_minor": 2
}
