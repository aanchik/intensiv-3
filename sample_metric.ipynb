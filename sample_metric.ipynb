{
 "cells": [
  {
   "cell_type": "markdown",
   "metadata": {},
   "source": [
    "#импорт библиотек"
   ]
  },
  {
   "cell_type": "code",
   "execution_count": null,
   "metadata": {},
   "outputs": [],
   "source": [
    "import pandas as pd\n",
    "from metric import decision_prices  #функция из модуля metric, которая рассчитывает затраты на закупку арматуры"
   ]
  },
  {
   "cell_type": "code",
   "execution_count": null,
   "metadata": {},
   "outputs": [
    {
     "data": {
      "text/plain": [
       "1275500"
      ]
     },
     "execution_count": 4,
     "metadata": {},
     "output_type": "execute_result"
    }
   ],
   "source": [
    "test = pd.read_excel('data/test.xlsx')\n",
    "\n",
    "test.loc[::2,'Объем'] = 3  #заполняем каждую вторую строку значением 3\n",
    "test['Объем'] = test['Объем'].fillna(0)  #заменяем все NaN в колонке на 0\n",
    "\n",
    "test\n",
    "\n",
    "test.to_excel('sample_submission.xlsx', index=False)  #сохраняем данные\n",
    "test_submission = pd.read_excel('sample_submission.xlsx')\n",
    "decision_prices(test_submission)  #суммарные затраты на закупку арматуры\n"
   ]
  },
  {
   "cell_type": "code",
   "execution_count": null,
   "metadata": {},
   "outputs": [],
   "source": []
  }
 ],
 "metadata": {
  "kernelspec": {
   "display_name": "Python 3",
   "language": "python",
   "name": "python3"
  },
  "language_info": {
   "codemirror_mode": {
    "name": "ipython",
    "version": 3
   },
   "file_extension": ".py",
   "mimetype": "text/x-python",
   "name": "python",
   "nbconvert_exporter": "python",
   "pygments_lexer": "ipython3",
   "version": "3.12.2"
  }
 },
 "nbformat": 4,
 "nbformat_minor": 2
}
