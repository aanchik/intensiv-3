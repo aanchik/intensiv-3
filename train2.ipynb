{
 "cells": [
  {
   "cell_type": "markdown",
   "metadata": {},
   "source": [
    "Вторая модель"
   ]
  },
  {
   "cell_type": "code",
   "execution_count": 1,
   "metadata": {},
   "outputs": [],
   "source": [
    "import pandas as pd\n",
    "import numpy as np\n",
    "import matplotlib.pyplot as plt\n",
    "from sklearn.model_selection import train_test_split, cross_val_score, KFold"
   ]
  },
  {
   "cell_type": "code",
   "execution_count": 2,
   "metadata": {},
   "outputs": [],
   "source": [
    "test_df = pd.read_excel(\"data/test.xlsx\")  # Файл с обучающими данными\n",
    "sorted_df = pd.read_excel(\"sorted.xlsx\")\n",
    "combi_dt = pd.concat([sorted_df, test_df], ignore_index=True)\n",
    "combi_dt['dt'] = pd.to_datetime(combi_dt['dt'])\n",
    "sorted_dt = combi_dt.sort_values(by='dt')\n",
    "sorted_dt = sorted_dt.drop_duplicates()\n",
    "result_file = 'sorted.xlsx'\n",
    "sorted_dt.to_excel(result_file, index=False)\n"
   ]
  },
  {
   "cell_type": "code",
   "execution_count": 3,
   "metadata": {},
   "outputs": [
    {
     "name": "stdout",
     "output_type": "stream",
     "text": [
      "\n",
      "Пропущенные значения:\n",
      "dt                  0\n",
      "Цена на арматуру    0\n",
      "dtype: int64\n",
      "\n",
      "Количество дубликатов:\n",
      "28\n",
      "\n",
      "Описательная статистика:\n"
     ]
    },
    {
     "data": {
      "text/html": [
       "<div>\n",
       "<style scoped>\n",
       "    .dataframe tbody tr th:only-of-type {\n",
       "        vertical-align: middle;\n",
       "    }\n",
       "\n",
       "    .dataframe tbody tr th {\n",
       "        vertical-align: top;\n",
       "    }\n",
       "\n",
       "    .dataframe thead th {\n",
       "        text-align: right;\n",
       "    }\n",
       "</style>\n",
       "<table border=\"1\" class=\"dataframe\">\n",
       "  <thead>\n",
       "    <tr style=\"text-align: right;\">\n",
       "      <th></th>\n",
       "      <th>dt</th>\n",
       "      <th>Цена на арматуру</th>\n",
       "    </tr>\n",
       "  </thead>\n",
       "  <tbody>\n",
       "    <tr>\n",
       "      <th>count</th>\n",
       "      <td>456</td>\n",
       "      <td>456.000000</td>\n",
       "    </tr>\n",
       "    <tr>\n",
       "      <th>mean</th>\n",
       "      <td>2019-05-04 11:09:28.421052672</td>\n",
       "      <td>39846.030702</td>\n",
       "    </tr>\n",
       "    <tr>\n",
       "      <th>min</th>\n",
       "      <td>2015-01-05 00:00:00</td>\n",
       "      <td>21000.000000</td>\n",
       "    </tr>\n",
       "    <tr>\n",
       "      <th>25%</th>\n",
       "      <td>2017-03-11 06:00:00</td>\n",
       "      <td>32000.000000</td>\n",
       "    </tr>\n",
       "    <tr>\n",
       "      <th>50%</th>\n",
       "      <td>2019-05-16 12:00:00</td>\n",
       "      <td>37350.000000</td>\n",
       "    </tr>\n",
       "    <tr>\n",
       "      <th>75%</th>\n",
       "      <td>2021-07-20 18:00:00</td>\n",
       "      <td>44125.000000</td>\n",
       "    </tr>\n",
       "    <tr>\n",
       "      <th>max</th>\n",
       "      <td>2023-03-13 00:00:00</td>\n",
       "      <td>79000.000000</td>\n",
       "    </tr>\n",
       "    <tr>\n",
       "      <th>std</th>\n",
       "      <td>NaN</td>\n",
       "      <td>12725.831385</td>\n",
       "    </tr>\n",
       "  </tbody>\n",
       "</table>\n",
       "</div>"
      ],
      "text/plain": [
       "                                  dt  Цена на арматуру\n",
       "count                            456        456.000000\n",
       "mean   2019-05-04 11:09:28.421052672      39846.030702\n",
       "min              2015-01-05 00:00:00      21000.000000\n",
       "25%              2017-03-11 06:00:00      32000.000000\n",
       "50%              2019-05-16 12:00:00      37350.000000\n",
       "75%              2021-07-20 18:00:00      44125.000000\n",
       "max              2023-03-13 00:00:00      79000.000000\n",
       "std                              NaN      12725.831385"
      ]
     },
     "execution_count": 3,
     "metadata": {},
     "output_type": "execute_result"
    }
   ],
   "source": [
    "combi_dt.shape\n",
    "print(\"\\nПропущенные значения:\")\n",
    "print(combi_dt.isnull().sum())\n",
    "print(\"\\nКоличество дубликатов:\")\n",
    "print(combi_dt.duplicated().sum())\n",
    "print(\"\\nОписательная статистика:\")\n",
    "combi_dt.describe()"
   ]
  },
  {
   "cell_type": "code",
   "execution_count": 4,
   "metadata": {},
   "outputs": [],
   "source": [
    "for df in [sorted_df, test_df]:\n",
    "    df[\"dt\"] = pd.to_datetime(df[\"dt\"], errors='coerce')\n",
    "    df[\"year\"] = df[\"dt\"].dt.year\n",
    "    df[\"month\"] = df[\"dt\"].dt.month\n",
    "    df[\"day\"] = df[\"dt\"].dt.day\n",
    "    df[\"week\"] = df[\"dt\"].dt.isocalendar().week\n",
    "    df.drop(columns=[\"dt\"], errors=\"ignore\", inplace=True)"
   ]
  },
  {
   "cell_type": "code",
   "execution_count": 5,
   "metadata": {},
   "outputs": [
    {
     "data": {
      "text/html": [
       "<div>\n",
       "<style scoped>\n",
       "    .dataframe tbody tr th:only-of-type {\n",
       "        vertical-align: middle;\n",
       "    }\n",
       "\n",
       "    .dataframe tbody tr th {\n",
       "        vertical-align: top;\n",
       "    }\n",
       "\n",
       "    .dataframe thead th {\n",
       "        text-align: right;\n",
       "    }\n",
       "</style>\n",
       "<table border=\"1\" class=\"dataframe\">\n",
       "  <thead>\n",
       "    <tr style=\"text-align: right;\">\n",
       "      <th></th>\n",
       "      <th>year</th>\n",
       "      <th>month</th>\n",
       "      <th>day</th>\n",
       "      <th>week</th>\n",
       "      <th>Price_source</th>\n",
       "      <th>Price_Diff</th>\n",
       "    </tr>\n",
       "  </thead>\n",
       "  <tbody>\n",
       "    <tr>\n",
       "      <th>1</th>\n",
       "      <td>2015</td>\n",
       "      <td>1</td>\n",
       "      <td>12</td>\n",
       "      <td>3</td>\n",
       "      <td>32500</td>\n",
       "      <td>400</td>\n",
       "    </tr>\n",
       "    <tr>\n",
       "      <th>2</th>\n",
       "      <td>2015</td>\n",
       "      <td>1</td>\n",
       "      <td>19</td>\n",
       "      <td>4</td>\n",
       "      <td>32000</td>\n",
       "      <td>500</td>\n",
       "    </tr>\n",
       "    <tr>\n",
       "      <th>3</th>\n",
       "      <td>2015</td>\n",
       "      <td>1</td>\n",
       "      <td>26</td>\n",
       "      <td>5</td>\n",
       "      <td>30700</td>\n",
       "      <td>1300</td>\n",
       "    </tr>\n",
       "    <tr>\n",
       "      <th>4</th>\n",
       "      <td>2015</td>\n",
       "      <td>2</td>\n",
       "      <td>2</td>\n",
       "      <td>6</td>\n",
       "      <td>30300</td>\n",
       "      <td>400</td>\n",
       "    </tr>\n",
       "    <tr>\n",
       "      <th>5</th>\n",
       "      <td>2015</td>\n",
       "      <td>2</td>\n",
       "      <td>9</td>\n",
       "      <td>7</td>\n",
       "      <td>30300</td>\n",
       "      <td>0</td>\n",
       "    </tr>\n",
       "    <tr>\n",
       "      <th>...</th>\n",
       "      <td>...</td>\n",
       "      <td>...</td>\n",
       "      <td>...</td>\n",
       "      <td>...</td>\n",
       "      <td>...</td>\n",
       "      <td>...</td>\n",
       "    </tr>\n",
       "    <tr>\n",
       "      <th>422</th>\n",
       "      <td>2023</td>\n",
       "      <td>2</td>\n",
       "      <td>6</td>\n",
       "      <td>6</td>\n",
       "      <td>44500</td>\n",
       "      <td>-1700</td>\n",
       "    </tr>\n",
       "    <tr>\n",
       "      <th>423</th>\n",
       "      <td>2023</td>\n",
       "      <td>2</td>\n",
       "      <td>13</td>\n",
       "      <td>7</td>\n",
       "      <td>44500</td>\n",
       "      <td>0</td>\n",
       "    </tr>\n",
       "    <tr>\n",
       "      <th>424</th>\n",
       "      <td>2023</td>\n",
       "      <td>2</td>\n",
       "      <td>20</td>\n",
       "      <td>8</td>\n",
       "      <td>46000</td>\n",
       "      <td>-1500</td>\n",
       "    </tr>\n",
       "    <tr>\n",
       "      <th>425</th>\n",
       "      <td>2023</td>\n",
       "      <td>2</td>\n",
       "      <td>27</td>\n",
       "      <td>9</td>\n",
       "      <td>49200</td>\n",
       "      <td>-3200</td>\n",
       "    </tr>\n",
       "    <tr>\n",
       "      <th>426</th>\n",
       "      <td>2023</td>\n",
       "      <td>3</td>\n",
       "      <td>6</td>\n",
       "      <td>10</td>\n",
       "      <td>53700</td>\n",
       "      <td>-4500</td>\n",
       "    </tr>\n",
       "  </tbody>\n",
       "</table>\n",
       "<p>426 rows × 6 columns</p>\n",
       "</div>"
      ],
      "text/plain": [
       "     year  month  day  week  Price_source  Price_Diff\n",
       "1    2015      1   12     3         32500         400\n",
       "2    2015      1   19     4         32000         500\n",
       "3    2015      1   26     5         30700        1300\n",
       "4    2015      2    2     6         30300         400\n",
       "5    2015      2    9     7         30300           0\n",
       "..    ...    ...  ...   ...           ...         ...\n",
       "422  2023      2    6     6         44500       -1700\n",
       "423  2023      2   13     7         44500           0\n",
       "424  2023      2   20     8         46000       -1500\n",
       "425  2023      2   27     9         49200       -3200\n",
       "426  2023      3    6    10         53700       -4500\n",
       "\n",
       "[426 rows x 6 columns]"
      ]
     },
     "execution_count": 5,
     "metadata": {},
     "output_type": "execute_result"
    }
   ],
   "source": [
    "X = sorted_df.drop(columns=['Цена на арматуру']).iloc[:-1, :]  # Замените \"target\" на название целевой переменной\n",
    "y = sorted_df['Цена на арматуру'].values[1:]\n",
    "X['Price_target'] = y\n",
    "X['Price_source'] = sorted_df['Цена на арматуру'].values[:-1]\n",
    "price_diff = X['Price_source'] - X['Price_target']\n",
    "y = X['Price_target']\n",
    "X = X.drop(columns=['Price_target'])\n",
    "X = X.drop([0])\n",
    "X['Price_Diff'] = price_diff.values[:-1]\n",
    "X"
   ]
  },
  {
   "cell_type": "code",
   "execution_count": 6,
   "metadata": {},
   "outputs": [
    {
     "name": "stdout",
     "output_type": "stream",
     "text": [
      "     Цена на арматуру  year  month  day  week\n",
      "0               32900  2015      1    5     2\n",
      "1               32500  2015      1   12     3\n",
      "2               32000  2015      1   19     4\n",
      "3               30700  2015      1   26     5\n",
      "4               30300  2015      2    2     6\n",
      "..                ...   ...    ...  ...   ...\n",
      "423             44500  2023      2   13     7\n",
      "424             46000  2023      2   20     8\n",
      "425             49200  2023      2   27     9\n",
      "426             53700  2023      3    6    10\n",
      "427             55500  2023      3   13    11\n",
      "\n",
      "[428 rows x 5 columns]\n"
     ]
    }
   ],
   "source": [
    "print(sorted_df)\n",
    "sorted_df = sorted_df.sort_values(by=['year', 'month', 'day', 'week'])"
   ]
  },
  {
   "cell_type": "code",
   "execution_count": 7,
   "metadata": {},
   "outputs": [
    {
     "name": "stderr",
     "output_type": "stream",
     "text": [
      "[Parallel(n_jobs=1)]: Done  49 tasks      | elapsed:    0.0s\n",
      "[Parallel(n_jobs=1)]: Done 199 tasks      | elapsed:    0.2s\n",
      "[Parallel(n_jobs=1)]: Done 449 tasks      | elapsed:    0.6s\n",
      "[Parallel(n_jobs=1)]: Done 799 tasks      | elapsed:    1.1s\n",
      "[Parallel(n_jobs=1)]: Done 1249 tasks      | elapsed:    1.6s\n",
      "[Parallel(n_jobs=1)]: Done 1799 tasks      | elapsed:    2.3s\n",
      "[Parallel(n_jobs=1)]: Done 2449 tasks      | elapsed:    3.0s\n",
      "[Parallel(n_jobs=1)]: Done  49 tasks      | elapsed:    0.0s\n",
      "[Parallel(n_jobs=1)]: Done 199 tasks      | elapsed:    0.0s\n",
      "[Parallel(n_jobs=1)]: Done 449 tasks      | elapsed:    0.0s\n",
      "[Parallel(n_jobs=1)]: Done 799 tasks      | elapsed:    0.0s\n",
      "[Parallel(n_jobs=1)]: Done 1249 tasks      | elapsed:    0.0s\n",
      "[Parallel(n_jobs=1)]: Done 1799 tasks      | elapsed:    0.1s\n",
      "[Parallel(n_jobs=1)]: Done 2449 tasks      | elapsed:    0.1s\n",
      "[Parallel(n_jobs=1)]: Done  49 tasks      | elapsed:    0.0s\n",
      "[Parallel(n_jobs=1)]: Done 199 tasks      | elapsed:    0.0s\n",
      "[Parallel(n_jobs=1)]: Done 449 tasks      | elapsed:    0.0s\n",
      "[Parallel(n_jobs=1)]: Done 799 tasks      | elapsed:    0.0s\n",
      "[Parallel(n_jobs=1)]: Done 1249 tasks      | elapsed:    0.0s\n",
      "[Parallel(n_jobs=1)]: Done 1799 tasks      | elapsed:    0.1s\n"
     ]
    },
    {
     "name": "stdout",
     "output_type": "stream",
     "text": [
      "MAE: 7287.3778\n",
      "RMSE: 11821.1751\n",
      "R2 Score: 0.2824\n"
     ]
    },
    {
     "name": "stderr",
     "output_type": "stream",
     "text": [
      "[Parallel(n_jobs=1)]: Done 2449 tasks      | elapsed:    0.1s\n"
     ]
    }
   ],
   "source": [
    "from sklearn.model_selection import train_test_split\n",
    "from sklearn.ensemble import RandomForestRegressor\n",
    "from sklearn.metrics import mean_absolute_error, mean_squared_error, r2_score\n",
    "import numpy as np\n",
    "\n",
    "# Пересинхронизация индексов\n",
    "y = y[X.index]\n",
    "X = X.sort_index()\n",
    "y = y.loc[X.index]\n",
    "\n",
    "# Разделение данных на обучающую и тестовую выборки\n",
    "X_train, X_holdout, y_train, y_holdout = train_test_split(\n",
    "    X, y, test_size=0.2, shuffle=False)\n",
    "\n",
    "# Инициализация модели\n",
    "model1 = RandomForestRegressor(n_estimators=3000, max_depth=5, verbose=1)\n",
    "\n",
    "# Разделение данных на обучающую и валидационную выборки\n",
    "X_train, X_valid, y_train, y_valid = train_test_split(X_train, y_train, test_size=0.2, shuffle=False)\n",
    "\n",
    "# Обучение модели\n",
    "model1.fit(X_train, y_train)\n",
    "\n",
    "# Предсказания\n",
    "y_pred = model1.predict(X_valid)\n",
    "y_pred_holdout = model1.predict(X_holdout)\n",
    "\n",
    "# Вычисление метрик\n",
    "mae = mean_absolute_error(y_valid, y_pred)\n",
    "rmse = np.sqrt(mean_squared_error(y_valid, y_pred))\n",
    "r2 = r2_score(y_valid, y_pred)\n",
    "\n",
    "# Вывод результатов\n",
    "print(f\"MAE: {mae:.4f}\")\n",
    "print(f\"RMSE: {rmse:.4f}\")\n",
    "print(f\"R2 Score: {r2:.4f}\")"
   ]
  },
  {
   "cell_type": "code",
   "execution_count": 8,
   "metadata": {},
   "outputs": [
    {
     "name": "stdout",
     "output_type": "stream",
     "text": [
      "Размер y_holdout: (86,)\n",
      "Размер y_pred_holdout: (86,)\n",
      "Первые 5 значений y_holdout:\n",
      "341    71500\n",
      "342    69500\n",
      "343    66000\n",
      "344    65000\n",
      "345    63500\n",
      "Name: Price_target, dtype: int64\n",
      "Первые 5 значений y_pred_holdout:\n",
      "[45981.34018385 46204.59099734 46130.71183443 46007.63220898\n",
      " 46021.24377644]\n"
     ]
    }
   ],
   "source": [
    "print(\"Размер y_holdout:\", y_holdout.shape)\n",
    "print(\"Размер y_pred_holdout:\", y_pred_holdout.shape)\n",
    "print(\"Первые 5 значений y_holdout:\")\n",
    "print(y_holdout.head())\n",
    "\n",
    "print(\"Первые 5 значений y_pred_holdout:\")\n",
    "print(y_pred_holdout[:5])"
   ]
  },
  {
   "cell_type": "code",
   "execution_count": 9,
   "metadata": {},
   "outputs": [
    {
     "name": "stdout",
     "output_type": "stream",
     "text": [
      "341    71500\n",
      "342    69500\n",
      "343    66000\n",
      "344    65000\n",
      "345    63500\n",
      "346    62000\n",
      "347    59000\n",
      "348    56500\n",
      "349    55000\n",
      "350    54000\n",
      "Name: Price_target, dtype: int64\n"
     ]
    }
   ],
   "source": [
    "print(y_holdout[:10])  # Посмотрим первые 10 значений"
   ]
  },
  {
   "cell_type": "code",
   "execution_count": 10,
   "metadata": {},
   "outputs": [
    {
     "data": {
      "image/png": "[encoded data removed]",
      "text/plain": [
       "<Figure size 1500x600 with 1 Axes>"
      ]
     },
     "metadata": {},
     "output_type": "display_data"
    }
   ],
   "source": [
    "y_holdout = y_holdout.sort_index()\n",
    "y_pred_holdout = pd.Series(y_pred_holdout, index=y_holdout.index).sort_index()\n",
    "\n",
    "plt.figure(figsize=(15, 6))\n",
    "\n",
    "# Фактические цены\n",
    "plt.plot(y_holdout.index, y_holdout.values, label=\"Фактические цены\", color='red', marker='o')\n",
    "\n",
    "# Прогнозируемые цены\n",
    "plt.plot(y_holdout.index, y_pred_holdout, label=\"Прогнозируемые цены\", color='blue', marker='x')\n",
    "\n",
    "# Оформление графика\n",
    "plt.legend()\n",
    "plt.xlabel(\"Дата\")\n",
    "plt.ylabel(\"Цена на арматуру\")\n",
    "plt.title(\"Исторические, Фактические и Прогнозируемые цены на арматуру\", color='#de25da')\n",
    "plt.xticks(rotation=45)\n",
    "plt.grid(True)\n",
    "\n",
    "plt.show()"
   ]
  },
  {
   "cell_type": "code",
   "execution_count": 11,
   "metadata": {},
   "outputs": [
    {
     "data": {
      "text/plain": [
       "['RandomForestRegressor.pkl']"
      ]
     },
     "execution_count": 11,
     "metadata": {},
     "output_type": "execute_result"
    }
   ],
   "source": [
    "import joblib\n",
    "joblib.dump(model1, \"RandomForestRegressor.pkl\")"
   ]
  }
 ],
 "metadata": {
  "kernelspec": {
   "display_name": "Python 3",
   "language": "python",
   "name": "python3"
  },
  "language_info": {
   "codemirror_mode": {
    "name": "ipython",
    "version": 3
   },
   "file_extension": ".py",
   "mimetype": "text/x-python",
   "name": "python",
   "nbconvert_exporter": "python",
   "pygments_lexer": "ipython3",
   "version": "3.13.0"
  }
 },
 "nbformat": 4,
 "nbformat_minor": 2
}
