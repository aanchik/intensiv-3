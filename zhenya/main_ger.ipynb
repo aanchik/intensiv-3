{
 "cells": [
  {
   "cell_type": "code",
   "execution_count": 19,
   "metadata": {},
   "outputs": [],
   "source": [
    "import pandas as pd\n",
    "import numpy as np\n",
    "import joblib"
   ]
  },
  {
   "cell_type": "code",
   "execution_count": 20,
   "metadata": {},
   "outputs": [],
   "source": [
    "# Загрузка модели\n",
    "model = joblib.load(\"../models/model_oned.pkl\")\n",
    "\n",
    "# Загрузка тестовых данных\n",
    "test_data = pd.read_excel(\"../data/test.xlsx\")\n",
    "test_data['dt'] = pd.to_datetime(test_data['dt'])"
   ]
  },
  {
   "cell_type": "code",
   "execution_count": 21,
   "metadata": {},
   "outputs": [
    {
     "name": "stderr",
     "output_type": "stream",
     "text": [
      "C:\\Users\\User\\AppData\\Local\\Temp\\ipykernel_10048\\1832702259.py:6: FutureWarning: DataFrame.fillna with 'method' is deprecated and will raise in a future version. Use obj.ffill() or obj.bfill() instead.\n",
      "  test_data.fillna(method='bfill', inplace=True)\n"
     ]
    }
   ],
   "source": [
    "# Создание лагов\n",
    "lags = 6\n",
    "for i in range(1, lags + 1):\n",
    "    test_data[f'lag_{i}'] = test_data['Цена на арматуру'].shift(i)\n",
    "\n",
    "test_data.fillna(method='bfill', inplace=True)"
   ]
  },
  {
   "cell_type": "code",
   "execution_count": 22,
   "metadata": {},
   "outputs": [],
   "source": [
    "# Функция прогнозирования на 6 недель вперед\n",
    "def predict_n_weeks_ahead(model, features, n_weeks=6):\n",
    "    predictions = []\n",
    "    \n",
    "    # Текущие значения лагов\n",
    "    current_features = features.copy()\n",
    "\n",
    "    for _ in range(n_weeks):\n",
    "        # Делаем предсказание, передавая в модель все лаги\n",
    "        prediction = model.predict([current_features])[0]\n",
    "        predictions.append(prediction)\n",
    "\n",
    "        # Обновляем лаги: удаляем самый старый, добавляем новое предсказание\n",
    "        current_features = np.roll(current_features, shift=-1)\n",
    "        current_features[-1] = prediction\n",
    "    \n",
    "    return predictions"
   ]
  },
  {
   "cell_type": "code",
   "execution_count": 23,
   "metadata": {},
   "outputs": [],
   "source": [
    "def determine_n_weeks(predictions):\n",
    "    n_weeks = 1\n",
    "    for i in range(1, len(predictions)):\n",
    "        if predictions[i] < predictions[i - 1]:  # Если цена падает\n",
    "            n_weeks += 1\n",
    "        elif predictions[i] == predictions[i - 1]:  # Если цена не меняется\n",
    "            continue  # Не увеличиваем n_weeks\n",
    "        else:  # Если цена растет\n",
    "            break  # Прерываем цикл, так как тренд уже сменился на рост\n",
    "    return min(n_weeks, 6)"
   ]
  },
  {
   "cell_type": "code",
   "execution_count": 24,
   "metadata": {},
   "outputs": [],
   "source": [
    "# Добавляем колонку с рекомендацией по объему тендера\n",
    "test_data['N_weeks'] = test_data.apply(\n",
    "    lambda row: determine_n_weeks(predict_n_weeks_ahead(model, row.iloc[2:].values)), axis=1\n",
    ")"
   ]
  },
  {
   "cell_type": "code",
   "execution_count": 25,
   "metadata": {},
   "outputs": [],
   "source": [
    "# Переименовываем колонку N_weeks в \"Объем\"\n",
    "test_data.rename(columns={'N_weeks': 'Объем'}, inplace=True)\n",
    "\n",
    "# Сохраняем только нужные колонки\n",
    "columns_to_keep = ['dt', 'Цена на арматуру', 'Объем']  # Сохраняем только нужные колонки\n",
    "test_data = test_data[columns_to_keep]"
   ]
  },
  {
   "cell_type": "code",
   "execution_count": 26,
   "metadata": {},
   "outputs": [],
   "source": [
    "# Сохраняем результат в новый файл\n",
    "test_data.to_excel(\"../data/test_with_recommendations.xlsx\", index=False)"
   ]
  }
 ],
 "metadata": {
  "kernelspec": {
   "display_name": "Python 3",
   "language": "python",
   "name": "python3"
  },
  "language_info": {
   "codemirror_mode": {
    "name": "ipython",
    "version": 3
   },
   "file_extension": ".py",
   "mimetype": "text/x-python",
   "name": "python",
   "nbconvert_exporter": "python",
   "pygments_lexer": "ipython3",
   "version": "3.12.2"
  }
 },
 "nbformat": 4,
 "nbformat_minor": 2
}
