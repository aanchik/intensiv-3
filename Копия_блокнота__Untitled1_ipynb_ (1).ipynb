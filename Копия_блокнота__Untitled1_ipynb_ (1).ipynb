{
  "nbformat": 4,
  "nbformat_minor": 0,
  "metadata": {
    "colab": {
      "provenance": []
    },
    "kernelspec": {
      "name": "python3",
      "display_name": "Python 3"
    },
    "language_info": {
      "name": "python"
    }
  },
  "cells": [
    {
      "cell_type": "code",
      "source": [
        "from google.colab import drive\n",
        "drive.mount('/content/drive')\n"
      ],
      "metadata": {
        "colab": {
          "base_uri": "https://localhost:8080/"
        },
        "id": "a3NV_ZoigvpH",
        "outputId": "512f02ff-a134-4384-9561-ace7b1ca092b"
      },
      "execution_count": null,
      "outputs": [
        {
          "output_type": "stream",
          "name": "stdout",
          "text": [
            "Mounted at /content/drive\n"
          ]
        }
      ]
    },
    {
      "cell_type": "code",
      "source": [
        "!ls /content/drive/MyDrive/"
      ],
      "metadata": {
        "id": "j4AVUy1YkdfH"
      },
      "execution_count": null,
      "outputs": []
    },
    {
      "cell_type": "code",
      "source": [
        "from google.colab import files\n",
        "uploaded = files.upload()  #Открываем окно загрузки файлов\n"
      ],
      "metadata": {
        "id": "iL9q_nJxlQOw"
      },
      "execution_count": null,
      "outputs": []
    },
    {
      "cell_type": "code",
      "source": [
        "import shutil\n",
        "\n",
        "shutil.move('train.csv', '/content/drive/MyDrive/Арматура/train.csv')\n",
        "shutil.move('test.csv', '/content/drive/MyDrive/Арматура/test.csv')\n"
      ],
      "metadata": {
        "id": "tFJ8LrzMlTAs"
      },
      "execution_count": null,
      "outputs": []
    },
    {
      "cell_type": "code",
      "source": [
        "!ls /content/drive/MyDrive/Арматура/\n"
      ],
      "metadata": {
        "id": "atgDqYEclUqs"
      },
      "execution_count": null,
      "outputs": []
    },
    {
      "cell_type": "code",
      "source": [
        "import pandas as pd\n",
        "\n",
        "train_data = pd.read_csv('/content/drive/MyDrive/Арматура/train.csv')\n",
        "test_data = pd.read_csv('/content/drive/MyDrive/Арматура/test.csv')\n",
        "\n",
        "print(train_data.head())  #Вывод первых строк\n"
      ],
      "metadata": {
        "id": "b6WLkn0hlWcN"
      },
      "execution_count": null,
      "outputs": []
    },
    {
      "cell_type": "code",
      "source": [
        "train_data['date'] = pd.to_datetime(train_data['date'])  #Преобразуем в дату\n",
        "train_data.set_index('date', inplace=True)  #Делаем индексом дату\n",
        "train_weekly = train_data.resample('W-MON').mean()  #Среднее значение по понедельникам\n",
        "\n",
        "print(train_weekly.head())  #Проверяем результат\n"
      ],
      "metadata": {
        "id": "OgIWcML-lYUU"
      },
      "execution_count": null,
      "outputs": []
    },
    {
      "cell_type": "code",
      "source": [
        "import matplotlib.pyplot as plt\n",
        "\n",
        "plt.figure(figsize=(12,6))\n",
        "plt.plot(train_weekly.index, train_weekly['price'], label='Цена арматуры')\n",
        "plt.xlabel('Дата')\n",
        "plt.ylabel('Цена')\n",
        "plt.legend()\n",
        "plt.grid()\n",
        "plt.show()\n"
      ],
      "metadata": {
        "id": "eVcQrt0KlcrH"
      },
      "execution_count": null,
      "outputs": []
    },
    {
      "cell_type": "code",
      "source": [
        "train_size = int(len(train_weekly) * 0.8)  #80% данных для обучения\n",
        "train, test = train_weekly[:train_size], train_weekly[train_size:]\n",
        "\n",
        "print(f\"Обучающая выборка: {len(train)} недель, Тестовая: {len(test)} недель\")\n"
      ],
      "metadata": {
        "id": "bbMfiEt1lejV"
      },
      "execution_count": null,
      "outputs": []
    },
    {
      "cell_type": "code",
      "source": [
        "from statsmodels.tsa.arima.model import ARIMA\n",
        "\n",
        "#Обучаем модель\n",
        "model = ARIMA(train['price'], order=(3,1,2))  #Параметры можно оптимизировать\n",
        "model_fit = model.fit()\n",
        "\n",
        "#Прогнозируем на тестовой выборке\n",
        "forecast = model_fit.forecast(steps=len(test))\n",
        "\n",
        "#Визуализируем прогноз\n",
        "plt.figure(figsize=(12,6))\n",
        "plt.plot(train.index, train['price'], label='Обучение')\n",
        "plt.plot(test.index, test['price'], label='Истинные данные', color='orange')\n",
        "plt.plot(test.index, forecast, label='Прогноз', linestyle='dashed', color='red')\n",
        "plt.xlabel('Дата')\n",
        "plt.ylabel('Цена')\n",
        "plt.legend()\n",
        "plt.grid()\n",
        "plt.show()\n"
      ],
      "metadata": {
        "id": "Sz5kMw4tlgx8"
      },
      "execution_count": null,
      "outputs": []
    },
    {
      "cell_type": "code",
      "source": [
        "from catboost import CatBoostRegressor\n",
        "from sklearn.model_selection import train_test_split\n",
        "\n",
        "#Создаем дополнительные признаки, скользящее среднее\n",
        "weekly_prices['Moving_Avg'] = weekly_prices['Price'].rolling(window=4).mean()\n",
        "\n",
        "#Создаем набор данных для обучения\n",
        "X = weekly_prices[['Price', 'Moving_Avg']]\n",
        "y = weekly_prices['Price']\n",
        "\n",
        "X_train, X_test, y_train, y_test = train_test_split(X, y, test_size=0.2, shuffle=False)\n",
        "\n",
        "model = CatBoostRegressor(iterations=500, depth=10, learning_rate=0.1)\n",
        "model.fit(X_train, y_train)\n",
        "\n",
        "#Прогнозирование\n",
        "y_pred = model.predict(X_test)\n"
      ],
      "metadata": {
        "id": "ebweo16-mdGM"
      },
      "execution_count": null,
      "outputs": []
    },
    {
      "cell_type": "code",
      "source": [
        "#Прогноз на ближайшие недели (пример)\n",
        "predicted_prices = forecast  #Сюда подставьте результат прогноза\n",
        "\n",
        "#Принятие решения на основе прогноза\n",
        "if predicted_prices[0] > weekly_prices['Price'].iloc[-1]:  #Цена через неделю выше текущей\n",
        "    tender_weeks = 3  #Закупаем на 3 недели\n",
        "elif predicted_prices[0] < weekly_prices['Price'].iloc[-1]:  #Цена через неделю ниже\n",
        "    tender_weeks = 1  #Закупаем на 1 неделю\n",
        "else:\n",
        "    tender_weeks = 2  #Закупаем на 2 недели, если цена стабильна\n",
        "\n",
        "print(f\"Рекомендованный объем тендера: {tender_weeks} недель.\")\n"
      ],
      "metadata": {
        "id": "QnUx2Rn3me0E"
      },
      "execution_count": null,
      "outputs": []
    },
    {
      "cell_type": "code",
      "source": [
        "from sklearn.metrics import mean_absolute_error\n",
        "\n",
        "#Оценка модели\n",
        "mae = mean_absolute_error(y_test, y_pred)\n",
        "print(f'Mean Absolute Error: {mae}')\n"
      ],
      "metadata": {
        "id": "8uWd7MEMmhjk"
      },
      "execution_count": null,
      "outputs": []
    }
  ]
}