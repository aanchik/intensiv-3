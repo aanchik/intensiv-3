{
  "nbformat": 4,
  "nbformat_minor": 0,
  "metadata": {
    "colab": {
      "provenance": []
    },
    "kernelspec": {
      "name": "python3",
      "display_name": "Python 3"
    },
    "language_info": {
      "name": "python"
    }
  },
  "cells": [
    {
      "cell_type": "code",
      "source": [
        "import pandas as pd\n",
        "import os\n",
        "git clone https://github.com/username/repository.git\n",
        "\n",
        "url = \"https://raw.githubusercontent.com/username/repository/main/data.csv\"\n",
        "df = pd.read_csv(url)\n",
        "\n",
        "print(df.head())\n",
        "\n",
        "# Списки файлов\n",
        "csv_files = [file for file in os.listdir(folder_path) if file.endswith(\".csv\")]\n",
        "excel_files = [file for file in os.listdir(folder_path) if file.endswith(\".xlsx\")]\n",
        "\n",
        "# Считываем CSV-файлы\n",
        "csv_data = [pd.read_csv(os.path.join(folder_path, file)) for file in csv_files]\n",
        "\n",
        "# Считываем Excel-файлы (первый лист каждого файла)\n",
        "excel_data = [pd.read_excel(os.path.join(folder_path, file)) for file in excel_files]\n",
        "\n",
        "# Объединяем все данные\n",
        "combined_df = pd.concat(csv_data + excel_data, ignore_index=True)\n",
        "\n",
        "# Сохраняем объединённый датасет в CSV\n",
        "combined_df.to_csv(\"combined_dataset.csv\", index=False)\n",
        "\n",
        "print(\"✅ Объединённый датасет сохранён в combined_dataset.csv\")"
      ],
      "metadata": {
        "colab": {
          "base_uri": "https://localhost:8080/",
          "height": 106
        },
        "id": "TLpYHAFkWnei",
        "outputId": "b82f563a-668f-441c-bbf8-d1c329bce149"
      },
      "execution_count": null,
      "outputs": [
        {
          "output_type": "error",
          "ename": "SyntaxError",
          "evalue": "invalid syntax (<ipython-input-5-5ce0f07eafc3>, line 3)",
          "traceback": [
            "\u001b[0;36m  File \u001b[0;32m\"<ipython-input-5-5ce0f07eafc3>\"\u001b[0;36m, line \u001b[0;32m3\u001b[0m\n\u001b[0;31m    git clone https://github.com/username/repository.git\u001b[0m\n\u001b[0m        ^\u001b[0m\n\u001b[0;31mSyntaxError\u001b[0m\u001b[0;31m:\u001b[0m invalid syntax\n"
          ]
        }
      ]
    },
    {
      "cell_type": "code",
      "source": [
        "print(combined_df.info())  # Проверить типы данных и пропущенные значения\n",
        "print(combined_df.head())  # Просмотреть первые строки объединённого датасета\n"
      ],
      "metadata": {
        "id": "ABTi4TvkWq2b"
      },
      "execution_count": null,
      "outputs": []
    }
  ]
}