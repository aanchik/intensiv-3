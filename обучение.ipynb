{
  "cells": [
    {
      "cell_type": "code",
      "execution_count": 1,
      "metadata": {
        "id": "MkG8PGff8Fil"
      },
      "outputs": [],
      "source": [
        "import pandas as pd\n",
        "import numpy as np"
      ]
    },
    {
      "cell_type": "code",
      "execution_count": 4,
      "metadata": {
        "id": "TMr0-7Gi8Kb0"
      },
      "outputs": [],
      "source": [
        "df = pd.read_excel(\"data/train.xlsx\")\n",
        "df_train = pd.DataFrame()\n",
        "df_train['Date'] = pd.to_datetime(df['dt'], format=\"%d.%m.%Y\")\n",
        "df_train['Price'] = df['Цена на арматуру']\n",
        "df = pd.read_excel(\"data/test.xlsx\")\n",
        "df_test = pd.DataFrame()\n",
        "df_test['Date'] = pd.to_datetime(df['dt'], format=\"%Y.%m.%d\")\n",
        "df_test['Price'] = df['Цена на арматуру']\n",
        "df = pd.concat((df_train, df_test)).reset_index(drop=True)"
      ]
    },
    {
      "cell_type": "code",
      "execution_count": 5,
      "metadata": {
        "colab": {
          "base_uri": "https://localhost:8080/"
        },
        "id": "bnSQgW11-yJE",
        "outputId": "a2a14895-bb5d-4c03-bd6f-ffe204926762"
      },
      "outputs": [
        {
          "name": "stdout",
          "output_type": "stream",
          "text": [
            "<class 'pandas.core.frame.DataFrame'>\n",
            "RangeIndex: 428 entries, 0 to 427\n",
            "Data columns (total 2 columns):\n",
            " #   Column  Non-Null Count  Dtype         \n",
            "---  ------  --------------  -----         \n",
            " 0   Date    428 non-null    datetime64[ns]\n",
            " 1   Price   428 non-null    int64         \n",
            "dtypes: datetime64[ns](1), int64(1)\n",
            "memory usage: 6.8 KB\n"
          ]
        }
      ],
      "source": [
        "df.info()"
      ]
    },
    {
      "cell_type": "code",
      "execution_count": 6,
      "metadata": {
        "colab": {
          "base_uri": "https://localhost:8080/",
          "height": 300
        },
        "id": "VSGQAd-q_gMq",
        "outputId": "8a4b55f5-be0d-497b-c194-d218f3f05bb8"
      },
      "outputs": [
        {
          "data": {
            "text/html": [
              "<div>\n",
              "<style scoped>\n",
              "    .dataframe tbody tr th:only-of-type {\n",
              "        vertical-align: middle;\n",
              "    }\n",
              "\n",
              "    .dataframe tbody tr th {\n",
              "        vertical-align: top;\n",
              "    }\n",
              "\n",
              "    .dataframe thead th {\n",
              "        text-align: right;\n",
              "    }\n",
              "</style>\n",
              "<table border=\"1\" class=\"dataframe\">\n",
              "  <thead>\n",
              "    <tr style=\"text-align: right;\">\n",
              "      <th></th>\n",
              "      <th>Date</th>\n",
              "      <th>Price</th>\n",
              "    </tr>\n",
              "  </thead>\n",
              "  <tbody>\n",
              "    <tr>\n",
              "      <th>count</th>\n",
              "      <td>428</td>\n",
              "      <td>428.000000</td>\n",
              "    </tr>\n",
              "    <tr>\n",
              "      <th>mean</th>\n",
              "      <td>2019-02-07 12:00:00</td>\n",
              "      <td>39557.920561</td>\n",
              "    </tr>\n",
              "    <tr>\n",
              "      <th>min</th>\n",
              "      <td>2015-01-05 00:00:00</td>\n",
              "      <td>21000.000000</td>\n",
              "    </tr>\n",
              "    <tr>\n",
              "      <th>25%</th>\n",
              "      <td>2017-01-21 06:00:00</td>\n",
              "      <td>31650.000000</td>\n",
              "    </tr>\n",
              "    <tr>\n",
              "      <th>50%</th>\n",
              "      <td>2019-02-07 12:00:00</td>\n",
              "      <td>36150.000000</td>\n",
              "    </tr>\n",
              "    <tr>\n",
              "      <th>75%</th>\n",
              "      <td>2021-02-23 18:00:00</td>\n",
              "      <td>43162.500000</td>\n",
              "    </tr>\n",
              "    <tr>\n",
              "      <th>max</th>\n",
              "      <td>2023-03-13 00:00:00</td>\n",
              "      <td>79000.000000</td>\n",
              "    </tr>\n",
              "    <tr>\n",
              "      <th>std</th>\n",
              "      <td>NaN</td>\n",
              "      <td>13052.612976</td>\n",
              "    </tr>\n",
              "  </tbody>\n",
              "</table>\n",
              "</div>"
            ],
            "text/plain": [
              "                      Date         Price\n",
              "count                  428    428.000000\n",
              "mean   2019-02-07 12:00:00  39557.920561\n",
              "min    2015-01-05 00:00:00  21000.000000\n",
              "25%    2017-01-21 06:00:00  31650.000000\n",
              "50%    2019-02-07 12:00:00  36150.000000\n",
              "75%    2021-02-23 18:00:00  43162.500000\n",
              "max    2023-03-13 00:00:00  79000.000000\n",
              "std                    NaN  13052.612976"
            ]
          },
          "execution_count": 6,
          "metadata": {},
          "output_type": "execute_result"
        }
      ],
      "source": [
        "df.describe()"
      ]
    },
    {
      "cell_type": "markdown",
      "metadata": {},
      "source": [
        "Создаются X (признаки) и y (целевая переменная — Price).\n",
        "Добавляются новые столбцы, такие как Price_target, Price_source и Price_Diff, которые отражают изменения цен.\n",
        "Удаляются ненужные колонки (Date, Price_target).\n",
        "Исключается первая строка (X.drop([0]))."
      ]
    },
    {
      "cell_type": "code",
      "execution_count": 7,
      "metadata": {
        "colab": {
          "base_uri": "https://localhost:8080/",
          "height": 423
        },
        "id": "aW-yS55WBZ1s",
        "outputId": "85d375e5-cada-4e2b-8557-2d1d365918b2"
      },
      "outputs": [
        {
          "data": {
            "text/html": [
              "<div>\n",
              "<style scoped>\n",
              "    .dataframe tbody tr th:only-of-type {\n",
              "        vertical-align: middle;\n",
              "    }\n",
              "\n",
              "    .dataframe tbody tr th {\n",
              "        vertical-align: top;\n",
              "    }\n",
              "\n",
              "    .dataframe thead th {\n",
              "        text-align: right;\n",
              "    }\n",
              "</style>\n",
              "<table border=\"1\" class=\"dataframe\">\n",
              "  <thead>\n",
              "    <tr style=\"text-align: right;\">\n",
              "      <th></th>\n",
              "      <th>Price_source</th>\n",
              "      <th>Price_Diff</th>\n",
              "    </tr>\n",
              "  </thead>\n",
              "  <tbody>\n",
              "    <tr>\n",
              "      <th>1</th>\n",
              "      <td>32500</td>\n",
              "      <td>400</td>\n",
              "    </tr>\n",
              "    <tr>\n",
              "      <th>2</th>\n",
              "      <td>32000</td>\n",
              "      <td>500</td>\n",
              "    </tr>\n",
              "    <tr>\n",
              "      <th>3</th>\n",
              "      <td>30700</td>\n",
              "      <td>1300</td>\n",
              "    </tr>\n",
              "    <tr>\n",
              "      <th>4</th>\n",
              "      <td>30300</td>\n",
              "      <td>400</td>\n",
              "    </tr>\n",
              "    <tr>\n",
              "      <th>5</th>\n",
              "      <td>30300</td>\n",
              "      <td>0</td>\n",
              "    </tr>\n",
              "    <tr>\n",
              "      <th>...</th>\n",
              "      <td>...</td>\n",
              "      <td>...</td>\n",
              "    </tr>\n",
              "    <tr>\n",
              "      <th>422</th>\n",
              "      <td>44500</td>\n",
              "      <td>-1700</td>\n",
              "    </tr>\n",
              "    <tr>\n",
              "      <th>423</th>\n",
              "      <td>44500</td>\n",
              "      <td>0</td>\n",
              "    </tr>\n",
              "    <tr>\n",
              "      <th>424</th>\n",
              "      <td>46000</td>\n",
              "      <td>-1500</td>\n",
              "    </tr>\n",
              "    <tr>\n",
              "      <th>425</th>\n",
              "      <td>49200</td>\n",
              "      <td>-3200</td>\n",
              "    </tr>\n",
              "    <tr>\n",
              "      <th>426</th>\n",
              "      <td>53700</td>\n",
              "      <td>-4500</td>\n",
              "    </tr>\n",
              "  </tbody>\n",
              "</table>\n",
              "<p>426 rows × 2 columns</p>\n",
              "</div>"
            ],
            "text/plain": [
              "     Price_source  Price_Diff\n",
              "1           32500         400\n",
              "2           32000         500\n",
              "3           30700        1300\n",
              "4           30300         400\n",
              "5           30300           0\n",
              "..            ...         ...\n",
              "422         44500       -1700\n",
              "423         44500           0\n",
              "424         46000       -1500\n",
              "425         49200       -3200\n",
              "426         53700       -4500\n",
              "\n",
              "[426 rows x 2 columns]"
            ]
          },
          "execution_count": 7,
          "metadata": {},
          "output_type": "execute_result"
        }
      ],
      "source": [
        "X = df.drop(columns=['Price']).iloc[:-1, :]\n",
        "y = df['Price'].values[1:]\n",
        "X['Price_target'] = y\n",
        "X['Price_source'] = df['Price'].values[:-1]\n",
        "price_diff = X['Price_source'] - X['Price_target']\n",
        "y = X['Price_target']\n",
        "X = X.drop(columns=['Price_target', 'Date'])\n",
        "X = X.drop([0])\n",
        "X['Price_Diff'] = price_diff.values[:-1]\n",
        "X"
      ]
    },
    {
      "cell_type": "code",
      "execution_count": 9,
      "metadata": {
        "id": "678pScaCF_lA"
      },
      "outputs": [],
      "source": [
        "from sklearn.model_selection import train_test_split\n",
        "y = y[X.index]  # Пересинхронизируем индексы\n",
        "\n",
        "X_train, X_holdout, y_train, y_holdout = train_test_split(\n",
        "    X, y, test_size=0.2, shuffle=True, random_state=42\n",
        ")"
      ]
    },
    {
      "cell_type": "code",
      "execution_count": 4,
      "metadata": {
        "colab": {
          "base_uri": "https://localhost:8080/",
          "height": 1000
        },
        "id": "BshN_gPVGES_",
        "outputId": "0a088f2c-f84c-42e4-cc71-bb6b99937c4d"
      },
      "outputs": [],
      "source": [
        "from lightgbm import LGBMRegressor\n",
        "\n",
        "model0 = LGBMRegressor(n_estimators=3000, max_depth=7, learning_rate=0.03, \n",
        "                        objective='mae', metric='mae',\n",
        "                        early_stopping_round=100, random_state=42)\n"
      ]
    }
  ],
  "metadata": {
    "colab": {
      "provenance": []
    },
    "kernelspec": {
      "display_name": "Python 3",
      "name": "python3"
    },
    "language_info": {
      "codemirror_mode": {
        "name": "ipython",
        "version": 3
      },
      "file_extension": ".py",
      "mimetype": "text/x-python",
      "name": "python",
      "nbconvert_exporter": "python",
      "pygments_lexer": "ipython3",
      "version": "3.13.0"
    }
  },
  "nbformat": 4,
  "nbformat_minor": 0
}
